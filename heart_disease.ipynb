{
 "cells": [
  {
   "cell_type": "markdown",
   "id": "17369045",
   "metadata": {},
   "source": [
    "# Classifying Chest Pain"
   ]
  },
  {
   "cell_type": "markdown",
   "id": "f39eecdd",
   "metadata": {},
   "source": [
    ">## Authors: Derek, Eric, & Selina"
   ]
  },
  {
   "cell_type": "markdown",
   "id": "0ed6c79d",
   "metadata": {},
   "source": [
    "### Introduction\n",
    "\n",
    "Heart disease include several types of heart conditions which affect the heart. 1 in 12 Canadian above age 20 live with heart disease (Canadian Chronic Disease Surveillance System (CCDSS), 2017). There are many reasons that cause heart diseases such as high blood pressure, high blood cholesterol, and other behaviours that are harmful to our bodies. Common symptoms of heart disease is chest pain. Heart-related chest pain is pressure or tightness generally caused by reduced blood flow to the heart. Our project focuses on factors that lead to chest pain. The four chest pains are classifed as, typical angina, atypical angina, non-anginal pain, and asymptomatic chest pain.The predictive question of classification we will answer is whether serum cholesterol and rbp (resting blood pressure) can be used to predict what type of cp an individual will have. We downloaded the dataset from the UC Irvine Machine Learning Repository on heart disease (UCI Machine Learning Repository: Heart Disease Data Set, 1988)."
   ]
  },
  {
   "cell_type": "markdown",
   "id": "1c45c62c-b7a7-441a-bd01-be8d773cee1e",
   "metadata": {},
   "source": [
    "### About the Dataset\n",
    "This entire database contains 76 attributes, but all published experiments refer to using a subset of 14 of them. Here are the 14 columns used:\n",
    "\n",
    "1. Age (in years)\n",
    "2. Sex\n",
    "    - 1 = male\n",
    "    - 2 = female\n",
    "3. Chest Pain Type\n",
    "    - Value 1: typical angina\n",
    "    - Value 2: atypical angina\n",
    "    - Value 3: non-anginal pain\n",
    "    - Value 4: asymptomatic\n",
    "4. Resting Blood Pressure (in mmHg)\n",
    "5. Cholesterol (serum cholesterol in mg/dl)\n",
    "6. Fasting Blood Sugar (> 120 mg/dl)\n",
    "    - 0 = false\n",
    "    - 1 = true\n",
    "7. Resting Electrocardiographic Results\n",
    "    - Value 0: normal\n",
    "    - Value 1: having ST-T wave abnormality (T wave inversions and/or ST elevation or depression of > 0.05 mV)\n",
    "    - Value 2: showing probable or definite left ventricular hypertrophy by Estes' criteria\n",
    "8. Maximum Heart Rate Achieved (beats per minute)\n",
    "9. Exercise Induced Angina\n",
    "    - 1 = yes\n",
    "    - 0 = no\n",
    "10. ST depression induced by exercise relative to rest\n",
    "11. The Slope of the Peak Exercise ST Segment\n",
    "    - Value 1: upsloping\n",
    "    - Value 2: flat\n",
    "    - Value 3: downsloping\n",
    "12. Number of Major Vessels Coloured by Flourosopy\n",
    "13. Thalassemia\n",
    "    - Value 3: normal\n",
    "    - Value 6: fixed defect\n",
    "    - Value 7: reversable defect\n",
    "14. Diagnosis of Heart Disease\n",
    "    - Value 0: < 50% diameter narrowing\n",
    "    - Value 1: > 50% diameter narrowing"
   ]
  },
  {
   "cell_type": "markdown",
   "id": "ed83c1b7",
   "metadata": {},
   "source": [
    "### Reading, Cleaning, and Wrangling the Dataset"
   ]
  },
  {
   "cell_type": "code",
   "execution_count": 12,
   "id": "7139583c-a604-462e-930e-bc26f2a42856",
   "metadata": {},
   "outputs": [
    {
     "name": "stderr",
     "output_type": "stream",
     "text": [
      "Updating HTML index of packages in '.Library'\n",
      "\n",
      "Making 'packages.html' ...\n",
      " done\n",
      "\n"
     ]
    }
   ],
   "source": [
    "install.packages(\"themis\")"
   ]
  },
  {
   "cell_type": "code",
   "execution_count": 13,
   "id": "31fb014b-423b-4bfd-b94b-5dbfc9ccbb89",
   "metadata": {},
   "outputs": [],
   "source": [
    "library(dplyr)\n",
    "library(readxl)\n",
    "library(tidyverse)\n",
    "library(themis)"
   ]
  },
  {
   "cell_type": "code",
   "execution_count": 14,
   "id": "27b207cb",
   "metadata": {},
   "outputs": [
    {
     "name": "stderr",
     "output_type": "stream",
     "text": [
      "\u001b[1mRows: \u001b[22m\u001b[34m200\u001b[39m \u001b[1mColumns: \u001b[22m\u001b[34m14\u001b[39m\n",
      "\u001b[36m──\u001b[39m \u001b[1mColumn specification\u001b[22m \u001b[36m────────────────────────────────────────────────────────\u001b[39m\n",
      "\u001b[1mDelimiter:\u001b[22m \",\"\n",
      "\u001b[32mdbl\u001b[39m (14): X1, X2, X3, X4, X5, X6, X7, X8, X9, X10, X11, X12, X13, X14\n",
      "\n",
      "\u001b[36mℹ\u001b[39m Use `spec()` to retrieve the full column specification for this data.\n",
      "\u001b[36mℹ\u001b[39m Specify the column types or set `show_col_types = FALSE` to quiet this message.\n"
     ]
    },
    {
     "data": {
      "text/html": [
       "<table class=\"dataframe\">\n",
       "<caption>A tibble: 5 × 14</caption>\n",
       "<thead>\n",
       "\t<tr><th scope=col>age</th><th scope=col>sex</th><th scope=col>cp</th><th scope=col>trestbps</th><th scope=col>chol</th><th scope=col>fbs</th><th scope=col>restecg</th><th scope=col>thalach</th><th scope=col>exang</th><th scope=col>oldpeak</th><th scope=col>slope</th><th scope=col>ca</th><th scope=col>thal</th><th scope=col>num</th></tr>\n",
       "\t<tr><th scope=col>&lt;dbl&gt;</th><th scope=col>&lt;dbl&gt;</th><th scope=col>&lt;fct&gt;</th><th scope=col>&lt;dbl&gt;</th><th scope=col>&lt;dbl&gt;</th><th scope=col>&lt;dbl&gt;</th><th scope=col>&lt;dbl&gt;</th><th scope=col>&lt;dbl&gt;</th><th scope=col>&lt;dbl&gt;</th><th scope=col>&lt;dbl&gt;</th><th scope=col>&lt;dbl&gt;</th><th scope=col>&lt;dbl&gt;</th><th scope=col>&lt;dbl&gt;</th><th scope=col>&lt;dbl&gt;</th></tr>\n",
       "</thead>\n",
       "<tbody>\n",
       "\t<tr><td>63</td><td>1</td><td>4</td><td>140</td><td>260</td><td>0</td><td>1</td><td>112</td><td>1</td><td>3.0</td><td> 2</td><td>NA</td><td>NA</td><td>2</td></tr>\n",
       "\t<tr><td>44</td><td>1</td><td>4</td><td>130</td><td>209</td><td>0</td><td>1</td><td>127</td><td>0</td><td>0.0</td><td>NA</td><td>NA</td><td>NA</td><td>0</td></tr>\n",
       "\t<tr><td>60</td><td>1</td><td>4</td><td>132</td><td>218</td><td>0</td><td>1</td><td>140</td><td>1</td><td>1.5</td><td> 3</td><td>NA</td><td>NA</td><td>2</td></tr>\n",
       "\t<tr><td>55</td><td>1</td><td>4</td><td>142</td><td>228</td><td>0</td><td>1</td><td>149</td><td>1</td><td>2.5</td><td> 1</td><td>NA</td><td>NA</td><td>1</td></tr>\n",
       "\t<tr><td>66</td><td>1</td><td>3</td><td>110</td><td>213</td><td>1</td><td>2</td><td> 99</td><td>1</td><td>1.3</td><td> 2</td><td>NA</td><td>NA</td><td>0</td></tr>\n",
       "</tbody>\n",
       "</table>\n"
      ],
      "text/latex": [
       "A tibble: 5 × 14\n",
       "\\begin{tabular}{llllllllllllll}\n",
       " age & sex & cp & trestbps & chol & fbs & restecg & thalach & exang & oldpeak & slope & ca & thal & num\\\\\n",
       " <dbl> & <dbl> & <fct> & <dbl> & <dbl> & <dbl> & <dbl> & <dbl> & <dbl> & <dbl> & <dbl> & <dbl> & <dbl> & <dbl>\\\\\n",
       "\\hline\n",
       "\t 63 & 1 & 4 & 140 & 260 & 0 & 1 & 112 & 1 & 3.0 &  2 & NA & NA & 2\\\\\n",
       "\t 44 & 1 & 4 & 130 & 209 & 0 & 1 & 127 & 0 & 0.0 & NA & NA & NA & 0\\\\\n",
       "\t 60 & 1 & 4 & 132 & 218 & 0 & 1 & 140 & 1 & 1.5 &  3 & NA & NA & 2\\\\\n",
       "\t 55 & 1 & 4 & 142 & 228 & 0 & 1 & 149 & 1 & 2.5 &  1 & NA & NA & 1\\\\\n",
       "\t 66 & 1 & 3 & 110 & 213 & 1 & 2 &  99 & 1 & 1.3 &  2 & NA & NA & 0\\\\\n",
       "\\end{tabular}\n"
      ],
      "text/markdown": [
       "\n",
       "A tibble: 5 × 14\n",
       "\n",
       "| age &lt;dbl&gt; | sex &lt;dbl&gt; | cp &lt;fct&gt; | trestbps &lt;dbl&gt; | chol &lt;dbl&gt; | fbs &lt;dbl&gt; | restecg &lt;dbl&gt; | thalach &lt;dbl&gt; | exang &lt;dbl&gt; | oldpeak &lt;dbl&gt; | slope &lt;dbl&gt; | ca &lt;dbl&gt; | thal &lt;dbl&gt; | num &lt;dbl&gt; |\n",
       "|---|---|---|---|---|---|---|---|---|---|---|---|---|---|\n",
       "| 63 | 1 | 4 | 140 | 260 | 0 | 1 | 112 | 1 | 3.0 |  2 | NA | NA | 2 |\n",
       "| 44 | 1 | 4 | 130 | 209 | 0 | 1 | 127 | 0 | 0.0 | NA | NA | NA | 0 |\n",
       "| 60 | 1 | 4 | 132 | 218 | 0 | 1 | 140 | 1 | 1.5 |  3 | NA | NA | 2 |\n",
       "| 55 | 1 | 4 | 142 | 228 | 0 | 1 | 149 | 1 | 2.5 |  1 | NA | NA | 1 |\n",
       "| 66 | 1 | 3 | 110 | 213 | 1 | 2 |  99 | 1 | 1.3 |  2 | NA | NA | 0 |\n",
       "\n"
      ],
      "text/plain": [
       "  age sex cp trestbps chol fbs restecg thalach exang oldpeak slope ca thal num\n",
       "1 63  1   4  140      260  0   1       112     1     3.0      2    NA NA   2  \n",
       "2 44  1   4  130      209  0   1       127     0     0.0     NA    NA NA   0  \n",
       "3 60  1   4  132      218  0   1       140     1     1.5      3    NA NA   2  \n",
       "4 55  1   4  142      228  0   1       149     1     2.5      1    NA NA   1  \n",
       "5 66  1   3  110      213  1   2        99     1     1.3      2    NA NA   0  "
      ]
     },
     "metadata": {},
     "output_type": "display_data"
    }
   ],
   "source": [
    "# Loading the dataset\n",
    "url <- \"https://archive.ics.uci.edu/ml/machine-learning-databases/heart-disease/processed.va.data\"\n",
    "heart_disease_data <- read_csv(url, col_names = FALSE, na = c(\"?\")) |>\n",
    "    setNames(c(\"age\", \"sex\", \"cp\", \"trestbps\", \"chol\", \"fbs\", \"restecg\", \"thalach\", \"exang\", \"oldpeak\", \"slope\", \"ca\", \"thal\", \"num\")) |>\n",
    "    mutate(cp = as_factor(cp)) |>\n",
    "    drop_na(chol) |>\n",
    "    drop_na(trestbps) |>\n",
    "    filter(chol != 0)\n",
    "# Only showing the first five rows\n",
    "head(heart_disease_data, n = 5)"
   ]
  },
  {
   "cell_type": "markdown",
   "id": "e3460e05-d461-4489-a7e6-22223ea6004f",
   "metadata": {},
   "source": [
    "### Selecting Only the Columns Used"
   ]
  },
  {
   "cell_type": "code",
   "execution_count": 28,
   "id": "802b9674-7e14-4820-8964-894eed96d0b3",
   "metadata": {},
   "outputs": [
    {
     "data": {
      "text/html": [
       "<table class=\"dataframe\">\n",
       "<caption>A tibble: 5 × 3</caption>\n",
       "<thead>\n",
       "\t<tr><th scope=col>cp</th><th scope=col>trestbps</th><th scope=col>chol</th></tr>\n",
       "\t<tr><th scope=col>&lt;fct&gt;</th><th scope=col>&lt;dbl&gt;</th><th scope=col>&lt;dbl&gt;</th></tr>\n",
       "</thead>\n",
       "<tbody>\n",
       "\t<tr><td>4</td><td>140</td><td>260</td></tr>\n",
       "\t<tr><td>4</td><td>130</td><td>209</td></tr>\n",
       "\t<tr><td>4</td><td>132</td><td>218</td></tr>\n",
       "\t<tr><td>4</td><td>142</td><td>228</td></tr>\n",
       "\t<tr><td>3</td><td>110</td><td>213</td></tr>\n",
       "</tbody>\n",
       "</table>\n"
      ],
      "text/latex": [
       "A tibble: 5 × 3\n",
       "\\begin{tabular}{lll}\n",
       " cp & trestbps & chol\\\\\n",
       " <fct> & <dbl> & <dbl>\\\\\n",
       "\\hline\n",
       "\t 4 & 140 & 260\\\\\n",
       "\t 4 & 130 & 209\\\\\n",
       "\t 4 & 132 & 218\\\\\n",
       "\t 4 & 142 & 228\\\\\n",
       "\t 3 & 110 & 213\\\\\n",
       "\\end{tabular}\n"
      ],
      "text/markdown": [
       "\n",
       "A tibble: 5 × 3\n",
       "\n",
       "| cp &lt;fct&gt; | trestbps &lt;dbl&gt; | chol &lt;dbl&gt; |\n",
       "|---|---|---|\n",
       "| 4 | 140 | 260 |\n",
       "| 4 | 130 | 209 |\n",
       "| 4 | 132 | 218 |\n",
       "| 4 | 142 | 228 |\n",
       "| 3 | 110 | 213 |\n",
       "\n"
      ],
      "text/plain": [
       "  cp trestbps chol\n",
       "1 4  140      260 \n",
       "2 4  130      209 \n",
       "3 4  132      218 \n",
       "4 4  142      228 \n",
       "5 3  110      213 "
      ]
     },
     "metadata": {},
     "output_type": "display_data"
    }
   ],
   "source": [
    "#Selecting the columns we use only\n",
    "heart_disease_dataset <- heart_disease_data|>\n",
    "select(cp,trestbps,chol)\n",
    "head(heart_disease_dataset, n = 5)"
   ]
  },
  {
   "cell_type": "markdown",
   "id": "94f5532f",
   "metadata": {},
   "source": [
    "### Splitting the Testing and Training Dataset"
   ]
  },
  {
   "cell_type": "code",
   "execution_count": 29,
   "id": "6028a2ce",
   "metadata": {},
   "outputs": [],
   "source": [
    "set.seed(1)\n",
    "library(tidymodels)\n",
    "\n",
    "heart_disease_split <- initial_split(heart_disease_dataset, prop = 0.75, strata = cp)\n",
    "heart_disease_train <- training(heart_disease_split)\n",
    "heart_disease_test <- testing(heart_disease_split)"
   ]
  },
  {
   "cell_type": "markdown",
   "id": "85e3efc6",
   "metadata": {},
   "source": [
    "### Summarize & Report the number of observations and percentages in each class"
   ]
  },
  {
   "cell_type": "code",
   "execution_count": 30,
   "id": "f90544ae",
   "metadata": {},
   "outputs": [
    {
     "data": {
      "text/html": [
       "<table class=\"dataframe\">\n",
       "<caption>A tibble: 4 × 3</caption>\n",
       "<thead>\n",
       "\t<tr><th scope=col>cp</th><th scope=col>n</th><th scope=col>percent</th></tr>\n",
       "\t<tr><th scope=col>&lt;fct&gt;</th><th scope=col>&lt;int&gt;</th><th scope=col>&lt;dbl&gt;</th></tr>\n",
       "</thead>\n",
       "<tbody>\n",
       "\t<tr><td>1</td><td> 2</td><td> 2.631579</td></tr>\n",
       "\t<tr><td>2</td><td> 5</td><td> 6.578947</td></tr>\n",
       "\t<tr><td>3</td><td>11</td><td>14.473684</td></tr>\n",
       "\t<tr><td>4</td><td>58</td><td>76.315789</td></tr>\n",
       "</tbody>\n",
       "</table>\n"
      ],
      "text/latex": [
       "A tibble: 4 × 3\n",
       "\\begin{tabular}{lll}\n",
       " cp & n & percent\\\\\n",
       " <fct> & <int> & <dbl>\\\\\n",
       "\\hline\n",
       "\t 1 &  2 &  2.631579\\\\\n",
       "\t 2 &  5 &  6.578947\\\\\n",
       "\t 3 & 11 & 14.473684\\\\\n",
       "\t 4 & 58 & 76.315789\\\\\n",
       "\\end{tabular}\n"
      ],
      "text/markdown": [
       "\n",
       "A tibble: 4 × 3\n",
       "\n",
       "| cp &lt;fct&gt; | n &lt;int&gt; | percent &lt;dbl&gt; |\n",
       "|---|---|---|\n",
       "| 1 |  2 |  2.631579 |\n",
       "| 2 |  5 |  6.578947 |\n",
       "| 3 | 11 | 14.473684 |\n",
       "| 4 | 58 | 76.315789 |\n",
       "\n"
      ],
      "text/plain": [
       "  cp n  percent  \n",
       "1 1   2  2.631579\n",
       "2 2   5  6.578947\n",
       "3 3  11 14.473684\n",
       "4 4  58 76.315789"
      ]
     },
     "metadata": {},
     "output_type": "display_data"
    }
   ],
   "source": [
    "heart_disease_observations <- heart_disease_train |>\n",
    "                      group_by(cp) |>\n",
    "                      summarize(n = n()) |>\n",
    "                      mutate(percent = 100 * n / nrow(heart_disease_train))\n",
    "heart_disease_observations"
   ]
  },
  {
   "cell_type": "markdown",
   "id": "f379456d",
   "metadata": {},
   "source": [
    "### Summarize the means of the predictor variables & shows how many rows have missing data"
   ]
  },
  {
   "cell_type": "code",
   "execution_count": 120,
   "id": "cfdcee8f",
   "metadata": {},
   "outputs": [
    {
     "data": {
      "text/html": [
       "<table class=\"dataframe\">\n",
       "<caption>A tibble: 1 × 2</caption>\n",
       "<thead>\n",
       "\t<tr><th scope=col>mean_trestbps</th><th scope=col>mean_chol</th></tr>\n",
       "\t<tr><th scope=col>&lt;dbl&gt;</th><th scope=col>&lt;dbl&gt;</th></tr>\n",
       "</thead>\n",
       "<tbody>\n",
       "\t<tr><td>135.4868</td><td>242</td></tr>\n",
       "</tbody>\n",
       "</table>\n"
      ],
      "text/latex": [
       "A tibble: 1 × 2\n",
       "\\begin{tabular}{ll}\n",
       " mean\\_trestbps & mean\\_chol\\\\\n",
       " <dbl> & <dbl>\\\\\n",
       "\\hline\n",
       "\t 135.4868 & 242\\\\\n",
       "\\end{tabular}\n"
      ],
      "text/markdown": [
       "\n",
       "A tibble: 1 × 2\n",
       "\n",
       "| mean_trestbps &lt;dbl&gt; | mean_chol &lt;dbl&gt; |\n",
       "|---|---|\n",
       "| 135.4868 | 242 |\n",
       "\n"
      ],
      "text/plain": [
       "  mean_trestbps mean_chol\n",
       "1 135.4868      242      "
      ]
     },
     "metadata": {},
     "output_type": "display_data"
    },
    {
     "data": {
      "text/html": [
       "<table class=\"dataframe\">\n",
       "<caption>A tibble: 1 × 2</caption>\n",
       "<thead>\n",
       "\t<tr><th scope=col>trestbps_na</th><th scope=col>percent</th></tr>\n",
       "\t<tr><th scope=col>&lt;int&gt;</th><th scope=col>&lt;dbl&gt;</th></tr>\n",
       "</thead>\n",
       "<tbody>\n",
       "\t<tr><td>0</td><td>0</td></tr>\n",
       "</tbody>\n",
       "</table>\n"
      ],
      "text/latex": [
       "A tibble: 1 × 2\n",
       "\\begin{tabular}{ll}\n",
       " trestbps\\_na & percent\\\\\n",
       " <int> & <dbl>\\\\\n",
       "\\hline\n",
       "\t 0 & 0\\\\\n",
       "\\end{tabular}\n"
      ],
      "text/markdown": [
       "\n",
       "A tibble: 1 × 2\n",
       "\n",
       "| trestbps_na &lt;int&gt; | percent &lt;dbl&gt; |\n",
       "|---|---|\n",
       "| 0 | 0 |\n",
       "\n"
      ],
      "text/plain": [
       "  trestbps_na percent\n",
       "1 0           0      "
      ]
     },
     "metadata": {},
     "output_type": "display_data"
    },
    {
     "data": {
      "text/html": [
       "<table class=\"dataframe\">\n",
       "<caption>A tibble: 1 × 2</caption>\n",
       "<thead>\n",
       "\t<tr><th scope=col>chol_na</th><th scope=col>percent</th></tr>\n",
       "\t<tr><th scope=col>&lt;int&gt;</th><th scope=col>&lt;dbl&gt;</th></tr>\n",
       "</thead>\n",
       "<tbody>\n",
       "\t<tr><td>0</td><td>0</td></tr>\n",
       "</tbody>\n",
       "</table>\n"
      ],
      "text/latex": [
       "A tibble: 1 × 2\n",
       "\\begin{tabular}{ll}\n",
       " chol\\_na & percent\\\\\n",
       " <int> & <dbl>\\\\\n",
       "\\hline\n",
       "\t 0 & 0\\\\\n",
       "\\end{tabular}\n"
      ],
      "text/markdown": [
       "\n",
       "A tibble: 1 × 2\n",
       "\n",
       "| chol_na &lt;int&gt; | percent &lt;dbl&gt; |\n",
       "|---|---|\n",
       "| 0 | 0 |\n",
       "\n"
      ],
      "text/plain": [
       "  chol_na percent\n",
       "1 0       0      "
      ]
     },
     "metadata": {},
     "output_type": "display_data"
    },
    {
     "data": {
      "text/plain": [
       "Recipe\n",
       "\n",
       "Inputs:\n",
       "\n",
       "      role #variables\n",
       "   outcome          1\n",
       " predictor          2\n",
       "\n",
       "Training data contained 76 data points and no missing data."
      ]
     },
     "metadata": {},
     "output_type": "display_data"
    }
   ],
   "source": [
    "heart_disease_exploratory <- heart_disease_dataset|>#read_csv(\"data/heart_disease.data\", col_names = FALSE, na = c(\"?\")) |>\n",
    "    #setNames(c(\"age\", \"sex\", \"cp\", \"trestbps\", \"chol\", \"fbs\", \"restecg\", \"thalach\", \"exang\", \"oldpeak\", \"slope\", \"ca\", \"thal\", \"num\")) |>\n",
    "    mutate(cp = as_factor(cp))\n",
    "#finding the number of na's in trestbps and % of na's in original dataset\n",
    "tresbps_na <- heart_disease_exploratory |> \n",
    "                      filter(is.na(trestbps)) |>\n",
    "                      summarize(trestbps_na = n()) |>\n",
    "                      mutate(percent = 100 * trestbps_na / nrow(heart_disease_exploratory))\n",
    "# finding the number of na's in chol and % of na's in the orignal dataset                      \n",
    "chol_na <- heart_disease_exploratory |> \n",
    "                      filter(is.na(chol)) |>\n",
    "                      summarize(chol_na = n()) |>\n",
    "                      mutate(percent = 100 * chol_na / nrow(heart_disease_exploratory))\n",
    "# finding the mean of predictors\n",
    "predictor_means <- heart_disease_train |>\n",
    "                      summarize(mean_trestbps = mean(trestbps, na.rm = TRUE), mean_chol = mean(chol, na.rm = TRUE))\n",
    "#Print the recipe\n",
    "heart_recipe <- recipe(cp ~ trestbps + chol, data = heart_disease_train, skip = FALSE)|>\n",
    "                        prep() \n",
    "\n",
    "\n",
    "predictor_means\n",
    "tresbps_na\n",
    "chol_na\n",
    "heart_recipe "
   ]
  },
  {
   "cell_type": "markdown",
   "id": "ff37e15d",
   "metadata": {},
   "source": [
    "###  Data Visualization"
   ]
  },
  {
   "cell_type": "code",
   "execution_count": 121,
   "id": "a8ff7c2b",
   "metadata": {},
   "outputs": [
    {
     "name": "stderr",
     "output_type": "stream",
     "text": [
      "`stat_bin()` using `bins = 30`. Pick better value with `binwidth`.\n",
      "\n"
     ]
    },
    {
     "data": {
      "image/png": "[encoded data removed]",
      "text/plain": [
       "plot without title"
      ]
     },
     "metadata": {
      "image/png": {
       "height": 420,
       "width": 600
      }
     },
     "output_type": "display_data"
    },
    {
     "data": {
      "image/png": "[encoded data removed]",
      "text/plain": [
       "plot without title"
      ]
     },
     "metadata": {
      "image/png": {
       "height": 420,
       "width": 600
      }
     },
     "output_type": "display_data"
    },
    {
     "data": {
      "image/png": "[encoded data removed]",
      "text/plain": [
       "plot without title"
      ]
     },
     "metadata": {
      "image/png": {
       "height": 420,
       "width": 600
      }
     },
     "output_type": "display_data"
    }
   ],
   "source": [
    "options(repr.plot.width = 10, repr.plot.height = 7)\n",
    "# histogram for chol observations\n",
    "chol_hist <- ggplot(heart_disease_train, aes(x = chol)) + \n",
    "    geom_histogram() +\n",
    "    labs(x = \"Serum Cholestoral (mg/dl)\", y = \"Number of Observations\") +\n",
    "    ggtitle(\"Number of Observations of Cholesterol in Training Dataset\") +\n",
    "    theme(plot.title = element_text(hjust = 0.5)) +\n",
    "    scale_y_continuous(breaks = pretty_breaks())\n",
    "# histogram for resting blood pressure observations\n",
    "trestbps_hist <- ggplot(heart_disease_train, aes(x = trestbps)) + \n",
    "    geom_histogram(bins = 25) +\n",
    "    labs(x = \"Resting Blood Pressure (mmHg)\", y = \"Number of Observations\") +\n",
    "    ggtitle(\"Number of Observations of Resting Blood Pressure (mmHg) in Training Dataset\") +\n",
    "    theme(plot.title = element_text(hjust = 0.5)) +\n",
    "    scale_y_continuous(breaks = pretty_breaks())\n",
    "# visualizing the plot for knn\n",
    "heart_plot <- heart_disease_train |> \n",
    "    ggplot(aes(x = trestbps, y = chol, color = cp)) +\n",
    "    geom_point(alpha = 0.5) +\n",
    "    labs(x = \"Resting Blood Pressure (mmHg)\", y = \"Serum Cholestoral (mg/dl)\", color = \"Chest Pain Types\") + \n",
    "    scale_color_manual(labels = c(\"Typical Angina\", \"Atypical Angina\",\"Non-Anginal Pain\",\"Asymptomatic\"), \n",
    "                     values = c(\"orange2\", \"steelblue2\",\"purple2\", \"green2\")) + \n",
    "    theme(text = element_text(size = 12)) +\n",
    "    ggtitle(\"Serum Cholestoral vs Resting Blood Pressure\") + \n",
    "    theme(plot.title = element_text(hjust = 0.5))\n",
    "chol_hist\n",
    "trestbps_hist\n",
    "heart_plot"
   ]
  },
  {
   "cell_type": "markdown",
   "id": "905bc37b",
   "metadata": {},
   "source": [
    "### Methods"
   ]
  },
  {
   "cell_type": "markdown",
   "id": "bfbc5fe8",
   "metadata": {},
   "source": [
    "We use the cholesterol, resting blood pressure columns as predictors, becuase these variables are the most commonly associated measures for chest pain. We are trying to predict the type of chest pain a person has, so the chest pain column will be our class/factor. The relationship between data points will be presented in scatter plot format. With cholesterol and rbp being x or y, class represented by colour/shape. The last representative is for the final outcome. We will use k-nearest predictor with rectangular weighted function and knn classification method. We will also use folding and multi-sampling to guarantee the accurcy of our algirthom. "
   ]
  },
  {
   "cell_type": "markdown",
   "id": "02787aef",
   "metadata": {},
   "source": [
    "### Expected outcomes and significance"
   ]
  },
  {
   "cell_type": "markdown",
   "id": "0e6a9461",
   "metadata": {},
   "source": [
    "In this project, we will create classifiers that, given a testing set with the predictors of resting blood pressure and serum cholesterol, can predict cp type with adequate accuracy. In this process, we also expect to determine whether or not high blood pressure and serum cholesterol have a connection to different types of chest pain.\n",
    "\n",
    "If we predict which cp type an individual will have based on rbp and serum cholesterol, we could recommend treatment and lifestyle changes corresponding to their cp type before conditions worsens. The four chespains are associated with different severities and treatments. The sooner these cp type are detected and treated, the less risk of patient developing heart disease.\n",
    "\n",
    "Another question our data analysis lead to is treatment or medication for different types of heart disease. If we predict which cp type someone is susceptible to, then we can analyze how different medications, exercise habits, or changing their diet improve their health could prove beneficial at creating better treatment to heart disease across the world, using data collected relating the health of the individual."
   ]
  },
  {
   "cell_type": "markdown",
   "id": "1f9769e4-7664-4fb4-bba7-cfd9467e4915",
   "metadata": {},
   "source": [
    "### Building our classifier"
   ]
  },
  {
   "cell_type": "code",
   "execution_count": 190,
   "id": "57ba386b-4aa8-47c3-863e-7a6c2d2206b7",
   "metadata": {},
   "outputs": [
    {
     "data": {
      "text/plain": [
       "Recipe\n",
       "\n",
       "Inputs:\n",
       "\n",
       "      role #variables\n",
       "   outcome          1\n",
       " predictor          2\n",
       "\n",
       "Training data contained 76 data points and no missing data.\n",
       "\n",
       "Operations:\n",
       "\n",
       "Scaling for chol, trestbps [trained]\n",
       "Centering for chol, trestbps [trained]\n",
       "Up-sampling based on cp [trained]"
      ]
     },
     "metadata": {},
     "output_type": "display_data"
    }
   ],
   "source": [
    "# Creating our recipe and scaling, centering, and balancing our predictors\n",
    "heart_disease_recipe <- recipe(cp ~ chol + trestbps, data = heart_disease_train) |>\n",
    "  step_scale(all_predictors()) |>\n",
    "  step_center(all_predictors()) |>\n",
    "  step_upsample(cp)|>\n",
    "  prep()\n",
    "heart_disease_recipe"
   ]
  },
  {
   "cell_type": "code",
   "execution_count": 191,
   "id": "31abf2f6-9291-4af5-8ea2-dc9cfe24afae",
   "metadata": {},
   "outputs": [
    {
     "data": {
      "text/plain": [
       "K-Nearest Neighbor Model Specification (classification)\n",
       "\n",
       "Main Arguments:\n",
       "  neighbors = tune()\n",
       "  weight_func = rectangular\n",
       "\n",
       "Computational engine: kknn \n"
      ]
     },
     "metadata": {},
     "output_type": "display_data"
    }
   ],
   "source": [
    "knn_spec <- nearest_neighbor(weight_func = \"rectangular\", neighbors = tune()) |> \n",
    "    set_engine(\"kknn\") |> \n",
    "    set_mode(\"classification\")\n",
    "knn_spec"
   ]
  },
  {
   "cell_type": "code",
   "execution_count": 192,
   "id": "b91f5339-9d40-4622-8f8f-c3b4792a54cd",
   "metadata": {},
   "outputs": [
    {
     "name": "stderr",
     "output_type": "stream",
     "text": [
      "\u001b[33m!\u001b[39m \u001b[33mFold1: internal:\n",
      "  No observations were detected in `truth` for level(s): '1', '2'\n",
      "  Computation will proceed by ignoring those levels.\u001b[39m\n",
      "\n",
      "\u001b[33m!\u001b[39m \u001b[33mFold3: internal:\n",
      "  No observations were detected in `truth` for level(s): '1'\n",
      "  Computation will proceed by ignoring those levels.\u001b[39m\n",
      "\n",
      "\u001b[33m!\u001b[39m \u001b[33mFold4: internal:\n",
      "  No observations were detected in `truth` for level(s): '1'\n",
      "  Computation will proceed by ignoring those levels.\u001b[39m\n",
      "\n",
      "\u001b[33m!\u001b[39m \u001b[33mFold5: internal:\n",
      "  No observations were detected in `truth` for level(s): '2'\n",
      "  Computation will proceed by ignoring those levels.\u001b[39m\n",
      "\n"
     ]
    },
    {
     "data": {
      "text/html": [
       "<table class=\"dataframe\">\n",
       "<caption>A tibble: 10 × 7</caption>\n",
       "<thead>\n",
       "\t<tr><th scope=col>neighbors</th><th scope=col>.metric</th><th scope=col>.estimator</th><th scope=col>mean</th><th scope=col>n</th><th scope=col>std_err</th><th scope=col>.config</th></tr>\n",
       "\t<tr><th scope=col>&lt;dbl&gt;</th><th scope=col>&lt;chr&gt;</th><th scope=col>&lt;chr&gt;</th><th scope=col>&lt;dbl&gt;</th><th scope=col>&lt;int&gt;</th><th scope=col>&lt;dbl&gt;</th><th scope=col>&lt;chr&gt;</th></tr>\n",
       "</thead>\n",
       "<tbody>\n",
       "\t<tr><td> 1</td><td>accuracy</td><td>multiclass</td><td>0.59250000</td><td>5</td><td>0.02237620</td><td>Preprocessor1_Model01</td></tr>\n",
       "\t<tr><td> 6</td><td>accuracy</td><td>multiclass</td><td>0.24916667</td><td>5</td><td>0.05603198</td><td>Preprocessor1_Model02</td></tr>\n",
       "\t<tr><td>11</td><td>accuracy</td><td>multiclass</td><td>0.10333333</td><td>5</td><td>0.04725816</td><td>Preprocessor1_Model03</td></tr>\n",
       "\t<tr><td>16</td><td>accuracy</td><td>multiclass</td><td>0.13000000</td><td>5</td><td>0.05783117</td><td>Preprocessor1_Model04</td></tr>\n",
       "\t<tr><td>21</td><td>accuracy</td><td>multiclass</td><td>0.10333333</td><td>5</td><td>0.04725816</td><td>Preprocessor1_Model05</td></tr>\n",
       "\t<tr><td>26</td><td>accuracy</td><td>multiclass</td><td>0.11666667</td><td>5</td><td>0.04654747</td><td>Preprocessor1_Model06</td></tr>\n",
       "\t<tr><td>31</td><td>accuracy</td><td>multiclass</td><td>0.09166667</td><td>5</td><td>0.03354102</td><td>Preprocessor1_Model07</td></tr>\n",
       "\t<tr><td>36</td><td>accuracy</td><td>multiclass</td><td>0.09166667</td><td>5</td><td>0.03354102</td><td>Preprocessor1_Model08</td></tr>\n",
       "\t<tr><td>41</td><td>accuracy</td><td>multiclass</td><td>0.12000000</td><td>5</td><td>0.07118052</td><td>Preprocessor1_Model09</td></tr>\n",
       "\t<tr><td>46</td><td>accuracy</td><td>multiclass</td><td>0.05333333</td><td>5</td><td>0.02494438</td><td>Preprocessor1_Model10</td></tr>\n",
       "</tbody>\n",
       "</table>\n"
      ],
      "text/latex": [
       "A tibble: 10 × 7\n",
       "\\begin{tabular}{lllllll}\n",
       " neighbors & .metric & .estimator & mean & n & std\\_err & .config\\\\\n",
       " <dbl> & <chr> & <chr> & <dbl> & <int> & <dbl> & <chr>\\\\\n",
       "\\hline\n",
       "\t  1 & accuracy & multiclass & 0.59250000 & 5 & 0.02237620 & Preprocessor1\\_Model01\\\\\n",
       "\t  6 & accuracy & multiclass & 0.24916667 & 5 & 0.05603198 & Preprocessor1\\_Model02\\\\\n",
       "\t 11 & accuracy & multiclass & 0.10333333 & 5 & 0.04725816 & Preprocessor1\\_Model03\\\\\n",
       "\t 16 & accuracy & multiclass & 0.13000000 & 5 & 0.05783117 & Preprocessor1\\_Model04\\\\\n",
       "\t 21 & accuracy & multiclass & 0.10333333 & 5 & 0.04725816 & Preprocessor1\\_Model05\\\\\n",
       "\t 26 & accuracy & multiclass & 0.11666667 & 5 & 0.04654747 & Preprocessor1\\_Model06\\\\\n",
       "\t 31 & accuracy & multiclass & 0.09166667 & 5 & 0.03354102 & Preprocessor1\\_Model07\\\\\n",
       "\t 36 & accuracy & multiclass & 0.09166667 & 5 & 0.03354102 & Preprocessor1\\_Model08\\\\\n",
       "\t 41 & accuracy & multiclass & 0.12000000 & 5 & 0.07118052 & Preprocessor1\\_Model09\\\\\n",
       "\t 46 & accuracy & multiclass & 0.05333333 & 5 & 0.02494438 & Preprocessor1\\_Model10\\\\\n",
       "\\end{tabular}\n"
      ],
      "text/markdown": [
       "\n",
       "A tibble: 10 × 7\n",
       "\n",
       "| neighbors &lt;dbl&gt; | .metric &lt;chr&gt; | .estimator &lt;chr&gt; | mean &lt;dbl&gt; | n &lt;int&gt; | std_err &lt;dbl&gt; | .config &lt;chr&gt; |\n",
       "|---|---|---|---|---|---|---|\n",
       "|  1 | accuracy | multiclass | 0.59250000 | 5 | 0.02237620 | Preprocessor1_Model01 |\n",
       "|  6 | accuracy | multiclass | 0.24916667 | 5 | 0.05603198 | Preprocessor1_Model02 |\n",
       "| 11 | accuracy | multiclass | 0.10333333 | 5 | 0.04725816 | Preprocessor1_Model03 |\n",
       "| 16 | accuracy | multiclass | 0.13000000 | 5 | 0.05783117 | Preprocessor1_Model04 |\n",
       "| 21 | accuracy | multiclass | 0.10333333 | 5 | 0.04725816 | Preprocessor1_Model05 |\n",
       "| 26 | accuracy | multiclass | 0.11666667 | 5 | 0.04654747 | Preprocessor1_Model06 |\n",
       "| 31 | accuracy | multiclass | 0.09166667 | 5 | 0.03354102 | Preprocessor1_Model07 |\n",
       "| 36 | accuracy | multiclass | 0.09166667 | 5 | 0.03354102 | Preprocessor1_Model08 |\n",
       "| 41 | accuracy | multiclass | 0.12000000 | 5 | 0.07118052 | Preprocessor1_Model09 |\n",
       "| 46 | accuracy | multiclass | 0.05333333 | 5 | 0.02494438 | Preprocessor1_Model10 |\n",
       "\n"
      ],
      "text/plain": [
       "   neighbors .metric  .estimator mean       n std_err    .config              \n",
       "1   1        accuracy multiclass 0.59250000 5 0.02237620 Preprocessor1_Model01\n",
       "2   6        accuracy multiclass 0.24916667 5 0.05603198 Preprocessor1_Model02\n",
       "3  11        accuracy multiclass 0.10333333 5 0.04725816 Preprocessor1_Model03\n",
       "4  16        accuracy multiclass 0.13000000 5 0.05783117 Preprocessor1_Model04\n",
       "5  21        accuracy multiclass 0.10333333 5 0.04725816 Preprocessor1_Model05\n",
       "6  26        accuracy multiclass 0.11666667 5 0.04654747 Preprocessor1_Model06\n",
       "7  31        accuracy multiclass 0.09166667 5 0.03354102 Preprocessor1_Model07\n",
       "8  36        accuracy multiclass 0.09166667 5 0.03354102 Preprocessor1_Model08\n",
       "9  41        accuracy multiclass 0.12000000 5 0.07118052 Preprocessor1_Model09\n",
       "10 46        accuracy multiclass 0.05333333 5 0.02494438 Preprocessor1_Model10"
      ]
     },
     "metadata": {},
     "output_type": "display_data"
    }
   ],
   "source": [
    "#Perform 5-fold cross-validation to choose best k\n",
    "hd_vfold <- vfold_cv(heart_disease_train, v = 5, strata = cp)\n",
    "gridvals <- tibble(neighbors = seq(from = 1, to = 50, by = 5))\n",
    "\n",
    "hd_results <- workflow() |> \n",
    "    add_recipe(heart_disease_recipe) |> \n",
    "    add_model(knn_spec)|> \n",
    "    tune_grid(resamples = hd_vfold, grid = gridvals) |> \n",
    "    collect_metrics() |>\n",
    "    filter(.metric == \"accuracy\")\n",
    "hd_results"
   ]
  },
  {
   "cell_type": "code",
   "execution_count": 193,
   "id": "3479d0ad-3db9-4106-9096-ba5ec9cbfcf9",
   "metadata": {},
   "outputs": [
    {
     "data": {
      "image/png": "[encoded data removed]",
      "text/plain": [
       "plot without title"
      ]
     },
     "metadata": {
      "image/png": {
       "height": 420,
       "width": 600
      }
     },
     "output_type": "display_data"
    }
   ],
   "source": [
    "# plot out and look at which value of k is the best \n",
    "cross_val_plot <- hd_results |> \n",
    "    ggplot(aes(x = neighbors, y = mean)) +\n",
    "    geom_point() +\n",
    "    geom_line() +\n",
    "    labs(x = \"K value\", y = \"Accuracy Estimate\", title = \"Estimated Accuracies for k Neighbours\") +\n",
    "    scale_x_continuous(limits = c(1, 50)) +\n",
    "    theme(text = element_text(size = 14))\n",
    "\n",
    "cross_val_plot"
   ]
  },
  {
   "cell_type": "markdown",
   "id": "824a5235-bf6b-420e-baf8-91e1707bdc20",
   "metadata": {
    "tags": []
   },
   "source": [
    "## Citations\n",
    "\n",
    "   \n",
    "Canadian Chronic Disease Surveillance System (CCDSS). (2017). https://health-infobase.canada.ca/ccdss/data-tool/Index?G=00 \n",
    "\n",
    "UCI Machine Learning Repository: Heart Disease Data Set. (1988). https://archive.ics.uci.edu/ml/datasets/Heart+Disease"
   ]
  }
 ],
 "metadata": {
  "kernelspec": {
   "display_name": "R",
   "language": "R",
   "name": "ir"
  },
  "language_info": {
   "codemirror_mode": "r",
   "file_extension": ".r",
   "mimetype": "text/x-r-source",
   "name": "R",
   "pygments_lexer": "r",
   "version": "4.1.3"
  }
 },
 "nbformat": 4,
 "nbformat_minor": 5
}
