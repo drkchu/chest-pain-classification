{
 "cells": [
  {
   "cell_type": "markdown",
   "id": "ed02f131-a75e-4308-b11b-9f7cd568b403",
   "metadata": {},
   "source": [
    "# DSCI 100 Group Project"
   ]
  },
  {
   "cell_type": "markdown",
   "id": "69ef1126-6a3f-4a99-8857-94f4f92a1cd5",
   "metadata": {},
   "source": [
    ">## Authors: Derek, Eric, and Selina"
   ]
  },
  {
   "cell_type": "markdown",
   "id": "1675e009-7903-4663-9bd2-a162a28e162f",
   "metadata": {},
   "source": [
    "### Introduction\n",
    "\n",
    "..."
   ]
  },
  {
   "cell_type": "code",
   "execution_count": null,
   "id": "a76aa90e-b07a-4ac9-899a-b1a2d4749a49",
   "metadata": {},
   "outputs": [],
   "source": [
    "set.seed(1)\n",
    "library(dplyr)\n",
    "library(readxl)\n",
    "library(tidyverse)\n",
    "\n",
    "heart_disease_data <- read_csv(\"data/heart_disease.data\", col_names = FALSE, na = c(\"?\")) |>\n",
    "    setNames(c(\"age\", \"sex\", \"cp\", \"trestbps\", \"chol\", \"fbs\", \"restecg\", \"thalach\", \"exang\", \"oldpeak\", \"slope\", \"ca\", \"thal\", \"num\")) |>\n",
    "    mutate(cp = as_factor(cp))\n",
    "heart_disease_data"
   ]
  },
  {
   "cell_type": "code",
   "execution_count": 29,
   "id": "542276a9-f2e2-4ebe-8377-bfefc5c11aa0",
   "metadata": {},
   "outputs": [],
   "source": [
    "library(tidymodels)\n",
    "\n",
    "heart_disease_split <- initial_split(heart_disease_data, prop = 0.75, strata = cp)\n",
    "heart_disease_train <- training(heart_disease_split)\n",
    "heart_disease_test <- testing(heart_disease_split) "
   ]
  },
  {
   "cell_type": "code",
   "execution_count": 6,
   "id": "74707cea-f94d-41a9-8d4d-6eaf75b1b0fc",
   "metadata": {},
   "outputs": [
    {
     "name": "stdout",
     "output_type": "stream",
     "text": [
      "Rows: 150\n",
      "Columns: 14\n",
      "$ age      \u001b[3m\u001b[90m<dbl>\u001b[39m\u001b[23m 66, 60, 63, 63, 74, 55, 55, 61, 59, 42, 55, 63, 60, 62, 56, 5…\n",
      "$ sex      \u001b[3m\u001b[90m<dbl>\u001b[39m\u001b[23m 1, 1, 1, 1, 1, 1, 1, 1, 1, 1, 1, 0, 1, 1, 1, 1, 1, 1, 1, 1, 1…\n",
      "$ cp       \u001b[3m\u001b[90m<fct>\u001b[39m\u001b[23m 3, 3, 3, 3, 3, 3, 3, 3, 3, 3, 3, 2, 3, 2, 3, 2, 3, 2, 1, 1, 3…\n",
      "$ trestbps \u001b[3m\u001b[90m<dbl>\u001b[39m\u001b[23m 110, 120, NA, 130, NA, NA, 0, 120, NA, 134, 120, NA, NA, NA, …\n",
      "$ chol     \u001b[3m\u001b[90m<dbl>\u001b[39m\u001b[23m 213, 0, 0, 0, 0, 228, 0, 0, 0, 240, 0, 0, 316, 0, 0, 0, 0, 21…\n",
      "$ fbs      \u001b[3m\u001b[90m<dbl>\u001b[39m\u001b[23m 1, NA, 0, 0, 0, 0, 0, 0, 0, NA, 0, 0, 1, 0, 0, 1, NA, 1, 0, 0…\n",
      "$ restecg  \u001b[3m\u001b[90m<dbl>\u001b[39m\u001b[23m 2, 0, 2, 1, 0, 1, 0, 0, 0, 0, 1, 0, 1, 0, 2, 0, 1, 1, 0, 1, 0…\n",
      "$ thalach  \u001b[3m\u001b[90m<dbl>\u001b[39m\u001b[23m 99, 141, NA, 111, NA, NA, 155, 80, 128, 160, 125, NA, NA, NA,…\n",
      "$ exang    \u001b[3m\u001b[90m<dbl>\u001b[39m\u001b[23m 1, 1, NA, 1, NA, NA, 0, 1, 1, 0, 1, NA, NA, NA, 1, 1, 0, 0, N…\n",
      "$ oldpeak  \u001b[3m\u001b[90m<dbl>\u001b[39m\u001b[23m 1.3, 2.0, NA, 0.0, NA, NA, 1.5, 0.0, 2.0, 0.0, 2.5, NA, NA, N…\n",
      "$ slope    \u001b[3m\u001b[90m<dbl>\u001b[39m\u001b[23m 2, 1, NA, NA, NA, NA, 2, 2, 3, NA, 2, NA, NA, NA, NA, 2, 3, N…\n",
      "$ ca       \u001b[3m\u001b[90m<dbl>\u001b[39m\u001b[23m NA, NA, NA, NA, NA, NA, NA, NA, NA, NA, NA, NA, NA, NA, NA, N…\n",
      "$ thal     \u001b[3m\u001b[90m<dbl>\u001b[39m\u001b[23m NA, NA, NA, NA, NA, NA, NA, NA, NA, NA, 7, NA, NA, NA, NA, NA…\n",
      "$ num      \u001b[3m\u001b[90m<dbl>\u001b[39m\u001b[23m 0, 3, 1, 3, 0, 3, 3, 3, 2, 0, 1, 0, 3, 0, 4, 2, 2, 0, 0, 2, 3…\n"
     ]
    }
   ],
   "source": [
    "glimpse(heart_disease_train)"
   ]
  },
  {
   "cell_type": "code",
   "execution_count": 7,
   "id": "f4ab8ab5-64a8-4cd9-9a87-e57a031ba66e",
   "metadata": {},
   "outputs": [
    {
     "name": "stdout",
     "output_type": "stream",
     "text": [
      "Rows: 50\n",
      "Columns: 14\n",
      "$ age      \u001b[3m\u001b[90m<dbl>\u001b[39m\u001b[23m 63, 44, 60, 66, 60, 52, 69, 56, 52, 64, 60, 59, 56, 67, 72, 7…\n",
      "$ sex      \u001b[3m\u001b[90m<dbl>\u001b[39m\u001b[23m 1, 1, 1, 1, 1, 1, 1, 1, 1, 1, 1, 1, 1, 1, 1, 1, 1, 1, 1, 1, 1…\n",
      "$ cp       \u001b[3m\u001b[90m<fct>\u001b[39m\u001b[23m 4, 4, 4, 3, 3, 3, 4, 4, 3, 4, 4, 4, 2, 1, 3, 4, 4, 4, 4, 4, 4…\n",
      "$ trestbps \u001b[3m\u001b[90m<dbl>\u001b[39m\u001b[23m 140, 130, 132, 120, 180, 128, 130, 120, 122, 144, NA, 122, 12…\n",
      "$ chol     \u001b[3m\u001b[90m<dbl>\u001b[39m\u001b[23m 260, 209, 218, 0, 0, 0, 0, 100, 0, 0, 281, 233, 224, 270, 214…\n",
      "$ fbs      \u001b[3m\u001b[90m<dbl>\u001b[39m\u001b[23m 0, 0, 0, 0, 0, 0, 1, 0, 0, 0, 0, 0, 1, 1, 0, 1, 1, 0, 0, 1, 0…\n",
      "$ restecg  \u001b[3m\u001b[90m<dbl>\u001b[39m\u001b[23m 1, 1, 1, 1, 1, 1, 1, 0, 0, 1, 1, 0, 0, 0, 0, 1, 1, 0, 1, 1, 0…\n",
      "$ thalach  \u001b[3m\u001b[90m<dbl>\u001b[39m\u001b[23m 112, 127, 140, 120, 140, 180, 129, 120, 110, 122, NA, 117, 16…\n",
      "$ exang    \u001b[3m\u001b[90m<dbl>\u001b[39m\u001b[23m 1, 0, 1, 0, 1, 0, 0, 1, 1, 1, NA, 1, 0, 0, 1, 0, 1, 1, 1, NA,…\n",
      "$ oldpeak  \u001b[3m\u001b[90m<dbl>\u001b[39m\u001b[23m 3.0, 0.0, 1.5, -0.5, 1.5, 3.0, 1.0, 1.5, 2.0, 1.0, NA, 1.3, 2…\n",
      "$ slope    \u001b[3m\u001b[90m<dbl>\u001b[39m\u001b[23m 2, NA, 3, 1, 2, 1, 2, 2, 3, 2, NA, 3, 2, 1, 2, NA, 2, 3, NA, …\n",
      "$ ca       \u001b[3m\u001b[90m<dbl>\u001b[39m\u001b[23m NA, NA, NA, NA, NA, NA, NA, 0, NA, NA, NA, NA, NA, NA, NA, NA…\n",
      "$ thal     \u001b[3m\u001b[90m<dbl>\u001b[39m\u001b[23m NA, NA, NA, NA, NA, NA, 6, 7, NA, NA, NA, NA, NA, NA, NA, 7, …\n",
      "$ num      \u001b[3m\u001b[90m<dbl>\u001b[39m\u001b[23m 2, 0, 2, 0, 0, 2, 2, 1, 2, 3, 2, 1, 0, 3, 3, 1, 2, 4, 3, 0, 0…\n"
     ]
    }
   ],
   "source": [
    "glimpse(heart_disease_test)"
   ]
  },
  {
   "cell_type": "code",
   "execution_count": 12,
   "id": "842a3a7a-5487-4429-b47a-a5e72d46c11d",
   "metadata": {},
   "outputs": [
    {
     "data": {
      "text/html": [
       "<table class=\"dataframe\">\n",
       "<caption>A tibble: 4 × 3</caption>\n",
       "<thead>\n",
       "\t<tr><th scope=col>cp</th><th scope=col>n</th><th scope=col>percent</th></tr>\n",
       "\t<tr><th scope=col>&lt;fct&gt;</th><th scope=col>&lt;int&gt;</th><th scope=col>&lt;dbl&gt;</th></tr>\n",
       "</thead>\n",
       "<tbody>\n",
       "\t<tr><td>1</td><td> 6</td><td> 4.000000</td></tr>\n",
       "\t<tr><td>2</td><td>10</td><td> 6.666667</td></tr>\n",
       "\t<tr><td>3</td><td>36</td><td>24.000000</td></tr>\n",
       "\t<tr><td>4</td><td>98</td><td>65.333333</td></tr>\n",
       "</tbody>\n",
       "</table>\n"
      ],
      "text/latex": [
       "A tibble: 4 × 3\n",
       "\\begin{tabular}{lll}\n",
       " cp & n & percent\\\\\n",
       " <fct> & <int> & <dbl>\\\\\n",
       "\\hline\n",
       "\t 1 &  6 &  4.000000\\\\\n",
       "\t 2 & 10 &  6.666667\\\\\n",
       "\t 3 & 36 & 24.000000\\\\\n",
       "\t 4 & 98 & 65.333333\\\\\n",
       "\\end{tabular}\n"
      ],
      "text/markdown": [
       "\n",
       "A tibble: 4 × 3\n",
       "\n",
       "| cp &lt;fct&gt; | n &lt;int&gt; | percent &lt;dbl&gt; |\n",
       "|---|---|---|\n",
       "| 1 |  6 |  4.000000 |\n",
       "| 2 | 10 |  6.666667 |\n",
       "| 3 | 36 | 24.000000 |\n",
       "| 4 | 98 | 65.333333 |\n",
       "\n"
      ],
      "text/plain": [
       "  cp n  percent  \n",
       "1 1   6  4.000000\n",
       "2 2  10  6.666667\n",
       "3 3  36 24.000000\n",
       "4 4  98 65.333333"
      ]
     },
     "metadata": {},
     "output_type": "display_data"
    }
   ],
   "source": [
    "heart_disease_observations <- heart_disease_train |>\n",
    "                      group_by(cp) |>\n",
    "                      summarize(n = n()) |>\n",
    "                      mutate(percent = 100*n/nrow(heart_disease_train))\n",
    "heart_disease_observations"
   ]
  },
  {
   "cell_type": "code",
   "execution_count": 28,
   "id": "8c1a20f2-8251-4d00-8b43-07509f78aa03",
   "metadata": {},
   "outputs": [
    {
     "data": {
      "text/plain": [
       "List of 1\n",
       " $ text:List of 11\n",
       "  ..$ family       : NULL\n",
       "  ..$ face         : NULL\n",
       "  ..$ colour       : NULL\n",
       "  ..$ size         : num 12\n",
       "  ..$ hjust        : NULL\n",
       "  ..$ vjust        : NULL\n",
       "  ..$ angle        : NULL\n",
       "  ..$ lineheight   : NULL\n",
       "  ..$ margin       : NULL\n",
       "  ..$ debug        : NULL\n",
       "  ..$ inherit.blank: logi FALSE\n",
       "  ..- attr(*, \"class\")= chr [1:2] \"element_text\" \"element\"\n",
       " - attr(*, \"class\")= chr [1:2] \"theme\" \"gg\"\n",
       " - attr(*, \"complete\")= logi FALSE\n",
       " - attr(*, \"validate\")= logi TRUE"
      ]
     },
     "metadata": {},
     "output_type": "display_data"
    },
    {
     "name": "stderr",
     "output_type": "stream",
     "text": [
      "Warning message:\n",
      "“Removed 43 rows containing missing values (geom_point).”\n"
     ]
    },
    {
     "data": {
      "image/png": "[encoded data removed]",
      "text/plain": [
       "plot without title"
      ]
     },
     "metadata": {
      "image/png": {
       "height": 420,
       "width": 420
      }
     },
     "output_type": "display_data"
    }
   ],
   "source": [
    "set.seed(1)\n",
    "trestbps_chol <- heart_disease_train |>\n",
    "  ggplot(aes(x = trestbps, y = chol, color = cp)) +\n",
    "  geom_point(alpha = 0.5) +\n",
    "  labs(color = \"Chest Pain Types\") \n",
    "  #scale_color_manual(labels = c(\"1\", \"2\",\"3\",\"4\"), \n",
    "                     #values = c(\"orange2\", \"steelblue2\",\"orange2\", \"steelblue2\")) + \n",
    "  theme(text = element_text(size = 12))\n",
    "\n",
    "trestbps_chol"
   ]
  },
  {
   "cell_type": "code",
   "execution_count": null,
   "id": "accea880-433e-411b-ace7-7286b8b054e8",
   "metadata": {},
   "outputs": [],
   "source": []
  }
 ],
 "metadata": {
  "kernelspec": {
   "display_name": "R",
   "language": "R",
   "name": "ir"
  },
  "language_info": {
   "codemirror_mode": "r",
   "file_extension": ".r",
   "mimetype": "text/x-r-source",
   "name": "R",
   "pygments_lexer": "r",
   "version": "4.1.3"
  }
 },
 "nbformat": 4,
 "nbformat_minor": 5
}
